{
  "cells": [
    {
      "metadata": {
        "_uuid": "3d0336bceda167b188717c68b056ed0773b0579d",
        "trusted": true,
        "collapsed": true
      },
      "cell_type": "code",
      "source": "from matplotlib import pyplot as plt\nimport seaborn as sns\nfrom datetime import date\n",
      "execution_count": null,
      "outputs": []
    },
    {
      "metadata": {
        "_uuid": "0e6f0d6e77bd74d3257af1f09171cd1649fcaabf"
      },
      "cell_type": "markdown",
      "source": "\n\n\n\n\n\n\n\n\n\n\n\n\n\n\n\n\n\n\n\n\n\n\n\n\n\n\n\n\n\n\n\n\n\n\n\n\n\n\n\n\n\n\n\n\n\n\n\n\n\n\n\n\n\n\n\n\n\n\n\n\n\n\n\n\n\n\n\n\n\n\n\n\n\n\n\n\n\n\n\n\n\n\n\n\n\n\n\n\n\n\n\n\n\n# Reading the data"
    },
    {
      "metadata": {
        "_uuid": "635b587f417f38a510bb06f8f44bdac35b24cc45",
        "scrolled": false,
        "trusted": true,
        "collapsed": true
      },
      "cell_type": "code",
      "source": "import pandas as pd\n# Remove '../input' from input field if files are in same directoy\ndfb=pd.read_csv('../input/Bronze.csv',sep=\",\",header=None)\ndfg=pd.read_csv('../input/Gold.csv',header=None)\ndfp=pd.read_csv('../input/Platinum.csv',header=None)\ndfs=pd.read_csv('../input/Silver.csv',header=None)\n",
      "execution_count": null,
      "outputs": []
    },
    {
      "metadata": {
        "_uuid": "dff76c5ce52fc5cd29a3090becbbe51a476df84b"
      },
      "cell_type": "markdown",
      "source": "# Cleaning the data"
    },
    {
      "metadata": {
        "_uuid": "e836777dde3b26746515ac6180d3a2fc58014ce4",
        "scrolled": false,
        "trusted": true,
        "collapsed": true
      },
      "cell_type": "code",
      "source": "dfb.columns = ['benchmark', 'hardware_vendor','system','cores','chips','cores_per_chip','processor_mhz','base_copies','result','baseline','published']\ndfs.columns = ['benchmark', 'hardware_vendor','system','cores','chips','cores_per_chip','processor_mhz','base_copies','result','baseline','published']\ndfg.columns = ['benchmark', 'hardware_vendor','system','cores','chips','cores_per_chip','processor_mhz','base_copies','result','baseline','published']\ndfp.columns = ['benchmark', 'hardware_vendor','system','cores','chips','cores_per_chip','processor_mhz','base_copies','result','baseline','published']\nprint(dfp.head(3))\ngraph=pd.DataFrame(columns=['processor','mhz','cores','chips','cores_per_chip'])\ncounter=0\n\n",
      "execution_count": null,
      "outputs": []
    },
    {
      "metadata": {
        "_uuid": "209ed22b6c3d7122ac583584cdf1312f4a046c29"
      },
      "cell_type": "markdown",
      "source": "# BRONZE"
    },
    {
      "metadata": {
        "_uuid": "a290b08e48271eda177fcd61d4d65ee740e7dcec",
        "scrolled": false,
        "trusted": true,
        "collapsed": true
      },
      "cell_type": "code",
      "source": "print(\"\\n\\n\\n\\n\\t\\t\\t*******************BRONZE****************\\n\\n\\n\\n\")\n\nprint('hardware vendors with their counts','\\n')\nprint(dfb['hardware_vendor'].value_counts())\nprint('\\n','systems with their counts','\\n')\nprint(dfb['system'].value_counts())\nb=dfb['system'].str.contains('Intel Xeon')\ndf=pd.DataFrame()\nxeon=[]\ndf['Xeon?']=b.values\ndf['hardware_vendor']=(pd.Series(dfb.hardware_vendor).values)\n\n\nfor i in range(0,df['Xeon?'].count()):    \n    if(df.iloc[i]['Xeon?']==True):\n        xeon.append(df.iloc[i]['hardware_vendor'])\n    \ndf=pd.DataFrame()\ndf['hardware_vendor']=(pd.Series(xeon)).values\ndf2=pd.DataFrame()\ndf2['hardware_vendor']=(pd.Series(df.hardware_vendor.unique())).values\nprint('\\n','Vendors Using Intel Xeon','\\n')\nprint(df2['hardware_vendor'])\nseries=''\na=[]\nb=[]\nh=\"\"\nc=[]\ns=[]\na=dfb['system'].values\nm=dfb['published'].values\nn=\"\"\nvendor=''\ndays=[]\nmonth=[\"\",'Jan','Feb','Mar','Apr','May','Jun','Jul','Aug','Sep','Oct','Nov','Dec']\nfor i in range(0,dfb['system'].count()):\n    graph.loc[counter]=['Bronze',(float(dfb.processor_mhz[i])),(float(dfb.cores[i])),(float(dfb.chips[i])),(float(dfb.cores_per_chip[i]))]\n    counter=counter+1\n    b=a[i].replace(\"(\",\" \").replace(\")\",\" \").replace(\",\",\" \").split()\n    n=dfb.published[i].split('-')\n    h=dfb.hardware_vendor[i].split(' ')\n    d0 = date(2000, 1, 1)\n    d1 = date(int(n[1]),month.index(n[0]),1)\n    days.append((d1-d0).days)\n    if('Intel' in b):\n        series=' '.join(b[(b.index('Intel')):(b.index('Intel')+4)])        \n        c.append(series)\n        s.append(series)\n        series=b[b.index('Intel')+3]\n#         series=series.replace(\" \",\"\")\n        vendor=h[0]\n        dfb.system[i]=series\n        dfb.hardware_vendor[i]=vendor\ndf=pd.DataFrame()\ndf['system']=(pd.Series(dfb.system.unique())).values\nprint('\\n','Different series of processeor ','\\n')\nprint(df['system'])\ndfb['days']=(pd.Series(days)).values\n\n\n\n",
      "execution_count": null,
      "outputs": []
    },
    {
      "metadata": {
        "_uuid": "50e20b8a2ab9916f96f9e4152e3afd2f254891bd"
      },
      "cell_type": "markdown",
      "source": "# SILVER"
    },
    {
      "metadata": {
        "_uuid": "0cf682be4213907da39868c8734728d79e6f16b7",
        "scrolled": false,
        "trusted": true,
        "collapsed": true
      },
      "cell_type": "code",
      "source": "print(\"\\n\\n\\n\\n\\t\\t\\t*******************SILVER****************\\n\\n\\n\\n\")\nprint('hardware vendors with their counts','\\n')\nprint(dfs['hardware_vendor'].value_counts())\nprint('\\n','systems with their counts','\\n')\nprint(dfs['system'].value_counts())\nb=dfs['system'].str.contains('Intel Xeon')\ndf=pd.DataFrame()\nxeon=[]\ndf['Xeon?']=b.values\ndf['hardware_vendor']=(pd.Series(dfs.hardware_vendor).values)\n\n\nfor i in range(0,df['Xeon?'].count()):    \n    if(df.iloc[i]['Xeon?']==True):\n        xeon.append(df.iloc[i]['hardware_vendor'])\n    \ndf=pd.DataFrame()\ndf['hardware_vendor']=(pd.Series(xeon)).values\ndf2=pd.DataFrame()\ndf2['hardware_vendor']=(pd.Series(df.hardware_vendor.unique())).values\nprint('\\n','Vendors Using Intel Xeon','\\n')\nprint(df2['hardware_vendor'])\nseries=''\na=[]\nb=[]\nc=[]\nh=\"\"\na=dfs['system'].values\nm=dfs['published'].values\nn=\"\"\ndays=[]\nmonth=[\"\",'Jan','Feb','Mar','Apr','May','Jun','Jul','Aug','Sep','Oct','Nov','Dec']\nfor i in range(0,dfs['system'].count()):\n    graph.loc[counter]=['Silver',(float(dfs.processor_mhz[i])),(float(dfs.cores[i])),(float(dfs.chips[i])),(float(dfs.cores_per_chip[i]))]\n    counter=counter+1\n    b=a[i].replace(\"(\",\" \").replace(\")\",\" \").replace(\",\",\" \").split()\n    n=dfs.published[i].split('-')\n    h=dfs.hardware_vendor[i].split(' ')\n    d0 = date(2000, 1, 1)\n    d1 = date(int(n[1]),month.index(n[0]),1)\n    days.append((d1-d0).days)\n    if('Intel' in b):\n        series=' '.join(b[(b.index('Intel')):(b.index('Intel')+4)])        \n        c.append(series)\n        s.append(series)\n        series=b[b.index('Intel')+3] \n#         series=series.replace(\" \",\"\")\n        vendor=h[0]\n        dfs.system[i]=series\n        dfs.hardware_vendor[i]=vendor\ndf=pd.DataFrame()\ndf['system']=(pd.Series(dfs.system.unique())).values\nprint('\\n','Different series of processeor ','\\n')\nprint(df['system'])\ndfs['days']=(pd.Series(days)).values\n\n\n\n",
      "execution_count": null,
      "outputs": []
    },
    {
      "metadata": {
        "_uuid": "cebc37648bb107867b6013339bb096e83ed4e259"
      },
      "cell_type": "markdown",
      "source": "# GOLD"
    },
    {
      "metadata": {
        "_uuid": "56a0a264d5fb7c607701fe44e9220126121f7a68",
        "scrolled": false,
        "trusted": true,
        "collapsed": true
      },
      "cell_type": "code",
      "source": "\n\nprint(\"\\n\\n\\n\\n\\t\\t\\t*******************GOLD****************\\n\\n\\n\\n\")\n\nprint('hardware vendors with their counts','\\n')\nprint(dfg['hardware_vendor'].value_counts())\nprint('\\n','systems with their counts','\\n')\nprint(dfg['system'].value_counts())\nb=dfg['system'].str.contains('Intel Xeon')\ndf=pd.DataFrame()\nxeon=[]\ndf['Xeon?']=b.values\ndf['hardware_vendor']=(pd.Series(dfg.hardware_vendor).values)\n\n\nfor i in range(0,df['Xeon?'].count()):    \n    if(df.iloc[i]['Xeon?']==True):\n        xeon.append(df.iloc[i]['hardware_vendor'])\n    \ndf=pd.DataFrame()\ndf['hardware_vendor']=(pd.Series(xeon)).values\ndf2=pd.DataFrame()\ndf2['hardware_vendor']=(pd.Series(df.hardware_vendor.unique())).values\nprint('\\n','Vendors Using Intel Xeon','\\n')\nprint(df2['hardware_vendor'])\nseries=''\na=[]\nb=[]\nc=[]\nh=\"\"\na=dfg['system'].values\nm=dfg['published'].values\nn=\"\"\ndays=[]\nmonth=[\"\",'Jan','Feb','Mar','Apr','May','Jun','Jul','Aug','Sep','Oct','Nov','Dec']\nfor i in range(0,dfg['system'].count()):\n    graph.loc[counter]=['Gold',(float(dfg.processor_mhz[i])),(float(dfg.cores[i])),(float(dfg.chips[i])),(float(dfg.cores_per_chip[i]))]\n    counter=counter+1\n    b=a[i].replace(\"(\",\" \").replace(\")\",\" \").replace(\",\",\" \").split()\n    n=dfg.published[i].split('-')\n    h=dfg.hardware_vendor[i].split(' ')\n    d0 = date(2000, 1, 1)\n    d1 = date(int(n[1]),month.index(n[0]),1)\n    days.append((d1-d0).days)\n    if('Intel' in b):\n        series=' '.join(b[(b.index('Intel')):(b.index('Intel')+4)])        \n        c.append(series)\n        s.append(series)\n        series=b[b.index('Intel')+3] \n#         series=series.replace(\" \",\"\")\n        vendor=h[0]\n        dfg.system[i]=series\n        dfg.hardware_vendor[i]=vendor\ndf=pd.DataFrame()\ndf['system']=(pd.Series(dfg.system.unique())).values\nprint('\\n','Different series of processeor ','\\n')\nprint(df['system'])\ndfg['days']=(pd.Series(days)).values\n",
      "execution_count": null,
      "outputs": []
    },
    {
      "metadata": {
        "_uuid": "918bc8862ef012da46d33ae78e655593037e0503"
      },
      "cell_type": "markdown",
      "source": "# PLATINUM"
    },
    {
      "metadata": {
        "_uuid": "a9806ebdfd8b158d6b0ac40ddc66d082ee996095",
        "scrolled": false,
        "trusted": true,
        "collapsed": true
      },
      "cell_type": "code",
      "source": "print(\"\\n\\n\\n\\n\\t\\t\\t*******************PLATINUM****************\\n\\n\\n\\n\")\n\nprint('hardware vendors with their counts','\\n')\nprint(dfp['hardware_vendor'].value_counts())\nprint('\\n','systems with their counts','\\n')\nprint(dfp['system'].value_counts())\nb=dfp['system'].str.contains('Intel Xeon')\ndf=pd.DataFrame()\nxeon=[]\ndf['Xeon?']=b.values\ndf['hardware_vendor']=(pd.Series(dfp.hardware_vendor).values)\n\n\nfor i in range(0,df['Xeon?'].count()):    \n    if(df.iloc[i]['Xeon?']==True):\n        xeon.append(df.iloc[i]['hardware_vendor'])\n    \ndf=pd.DataFrame()\ndf['hardware_vendor']=(pd.Series(xeon)).values\ndf2=pd.DataFrame()\ndf2['hardware_vendor']=(pd.Series(df.hardware_vendor.unique())).values\nprint('\\n','Vendors Using Intel Xeon','\\n')\nprint(df2['hardware_vendor'])\nseries=''\na=[]\nb=[]\nc=[]\nh=\"\"\na=dfp['system'].values\nm=dfp['published'].values\nn=\"\"\ndays=[]\nmonth=[\"\",'Jan','Feb','Mar','Apr','May','Jun','Jul','Aug','Sep','Oct','Nov','Dec']\nfor i in range(0,dfp['system'].count()):\n    graph.loc[counter]=['Platinum',(float(dfp.processor_mhz[i])),(float(dfp.cores[i])),(float(dfp.chips[i])),(float(dfp.cores_per_chip[i]))]\n    counter=counter+1\n    b=a[i].replace(\"(\",\" \").replace(\")\",\" \").replace(\",\",\" \").split()\n    n=dfp.published[i].split('-')\n    h=dfp.hardware_vendor[i].split(' ')\n    d0 = date(2000, 1, 1)\n    d1 = date(int(n[1]),month.index(n[0]),1)\n    days.append((d1-d0).days)\n    if('Intel' in b):\n        series=' '.join(b[(b.index('Intel')):(b.index('Intel')+4)])        \n        c.append(series)\n        s.append(series)\n        series=b[b.index('Intel')+3]\n#         series=series.replace(\" \",\"\")\n        vendor=h[0]\n        dfp.system[i]=series\n        dfp.hardware_vendor[i]=vendor\ndf=pd.DataFrame()\ndf['system']=(pd.Series(dfp.system.unique())).values\nprint('\\n','Different series of processeor ','\\n')\nprint(df['system'])\ndfp['days']=(pd.Series(days)).values\n",
      "execution_count": null,
      "outputs": []
    },
    {
      "metadata": {
        "_uuid": "983aaddd50024989d5402bfb9f4474d822997cf8"
      },
      "cell_type": "markdown",
      "source": "### Most used series"
    },
    {
      "metadata": {
        "_uuid": "ddc7718e96f8361984e7071c2f5596e1f8548153",
        "scrolled": false,
        "trusted": true,
        "collapsed": true
      },
      "cell_type": "code",
      "source": "df=pd.DataFrame()\ndf['series']=(pd.Series(s)).values\nprint(df['series'].value_counts())\n",
      "execution_count": null,
      "outputs": []
    },
    {
      "metadata": {
        "_uuid": "7d04f1cb577a0e036b0d31f5ffc133ffa8af4381"
      },
      "cell_type": "markdown",
      "source": "### Prediction using Linear Regreesion (Price prediction)"
    },
    {
      "metadata": {
        "trusted": true,
        "_uuid": "a8f7e8d7fe7cd19a04a3b98922813ce11fae9c47",
        "collapsed": true
      },
      "cell_type": "code",
      "source": "# from sklearn.preprocessing import StandardScaler\nfrom sklearn import linear_model\nfrom sklearn.model_selection import train_test_split\nfrom keras.models import Sequential\nfrom keras.layers import Dense\nfrom keras.layers import Dropout\nregr = linear_model.LinearRegression()\ncost=pd.read_csv('../input/price2.csv',header=None, skiprows=1)\ncost.columns = ['system', 'price','max_memory']\nseries=pd.DataFrame()\ncounter=0\na=[]\nc=[]\nm=[]\ndf1=pd.DataFrame()\ndf1=pd.concat([dfb,dfs,dfg,dfp], axis=0)\ndf1=df1.reset_index()\na=cost['price'].values\nfor i in range(0,cost['price'].count()):\n    b=a[i].replace(\".00\",\"\").replace(\"$\",\"\").replace(\",\",\"\")\n    cost.price[i]=b\n    for j in range(0,df1['cores'].count()):\n        if(df1.system[j] == cost.system[i]):\n            c.append(df1.cores[j])\n            m.append(df1.processor_mhz[j])\n\n            break;\n\nprint(len(c),len(m),cost['price'].count())\n\ncost['cores']=(pd.Series(c)).values\ncost['mhz']=(pd.Series(m)).values\n\n# NAIVE BAYES\nprint(cost)\nX=cost.loc[:,['cores','mhz','max_memory']]\nY=cost.loc[:,['price']]\nX_train, X_test, y_train, y_test = train_test_split(X, Y, test_size=0.33, random_state=42)\n# X_train = X[:]\n# X_test  = X[:]\n# y_train = Y[:]\n# y_test  = Y[:]\n\n\n# sc = StandardScaler()\n# X_train = sc.fit_transform(X_train)\n# classifier = Sequential()\n# classifier.add(Dense(output_dim = 3, init = 'uniform', activation = 'relu', input_dim = 3))\n# classifier.add(Dense(output_dim = 3, init = 'uniform', activation = 'relu'))\n# classifier.add(Dense(units = 1, kernel_initializer = 'uniform', activation = 'sigmoid'))\n# classifier.compile(optimizer = 'adam', loss = 'mean_squared_error', metrics = ['accuracy'])\n# classifier.fit(X_train, y_train, batch_size = 10, epochs = 100)\n\n\nregr = linear_model.LinearRegression()\nregr.fit(X_train, y_train)\naccuracy = regr.score(X_test,y_test)\nprint(accuracy*100,'%')\n#####\nprint(\"Enter no. of cores: \")\nprint(\"Enter mhz of processor: \")\nprint(\"Enter max memory(in GB): \")\ncore_pred=int(input())\nmhz_pred=int(input())\nmem_pred=int(input())\n\n# y_pred = classifier.predict([[core_pred,mhz_pred,mem_pred]])\n\ny_pred = regr.predict([[core_pred,mhz_pred,mem_pred]])\n\nprint(\"Estimated price is :\",y_pred)\n\n    \n\n",
      "execution_count": null,
      "outputs": []
    },
    {
      "metadata": {
        "_uuid": "c27559faf205ae6fef6c45adb9381e002828d3f2"
      },
      "cell_type": "markdown",
      "source": "### Prediction using KNN (Most likely in demand)"
    },
    {
      "metadata": {
        "_uuid": "325143d3136ac9eb3d564735c302265f8a17d68b",
        "trusted": true,
        "collapsed": true
      },
      "cell_type": "code",
      "source": "# from matplotlib import pyplot as plt\n# from sklearn.neighbors import KNeighborsClassifier\n# X=dfg.loc[:,['days','baseline']]\n# Y=dfg.loc[:,['system']]\n# knn=KNeighborsClassifier()\n# knn.fit(X,Y)\n# d0 = date(2000, 1, 1)\n# d1 = date(2018, month.index('Jan'), 1)\n# delta = d1 - d0\n# print(\"Predicted Series on\",d1,\":\",clf.predict([[delta.days]]))\n\n\n",
      "execution_count": null,
      "outputs": []
    },
    {
      "metadata": {
        "_uuid": "c01dae218309025c3c20073e1a577f0e53bbacdb"
      },
      "cell_type": "markdown",
      "source": "### Prediction using Naive Bayes (Most likely in demand)"
    },
    {
      "metadata": {
        "_uuid": "16d9620a7be78feee79c107ae745f1ea68c7f46c",
        "trusted": true,
        "collapsed": true
      },
      "cell_type": "code",
      "source": "from matplotlib import pyplot as plt\nfrom sklearn.naive_bayes import GaussianNB\n\nX=dfg.loc[:,['days','baseline']]\nY=dfg.loc[:,['system']]\nclf=GaussianNB()\nclf.fit(X,Y)\nd0 = date(2000, 1, 1)\nd1 = date(2017, month.index('Nov'), 1)\ndelta = d1 - d0\nprint(\"Predicted Series on\",d1,\":\",clf.predict([[delta.days]]))",
      "execution_count": null,
      "outputs": []
    },
    {
      "metadata": {
        "_uuid": "8d356691c377040479c6aeadf66cfa5a7f4dea39"
      },
      "cell_type": "markdown",
      "source": "# Plotting graphs"
    },
    {
      "metadata": {
        "_uuid": "570e1b2a46e08920f52f3f3150c7d5bed7077d4e"
      },
      "cell_type": "markdown",
      "source": "### Range of mhz,cores,chips,cores per chips (VIOLIN PLOT)"
    },
    {
      "metadata": {
        "_uuid": "4331ef9dbe1a07d22299cd7cfebe734bad4a8248",
        "scrolled": false,
        "trusted": true,
        "collapsed": true
      },
      "cell_type": "code",
      "source": "\nimport seaborn as sns\nsns.set_style(\"whitegrid\")\n\nsns.violinplot(x=\"processor\", y=\"mhz\", data=graph)\nplt.title('Range of MHZ')\nplt.show()\n\nsns.violinplot(x=\"processor\", y=\"cores\", data=graph)\nplt.title('Range of Cores')\nplt.show()\n\nsns.violinplot(x=\"processor\", y=\"chips\", data=graph)\nplt.title('Range of Chips')\nplt.show()\n\nsns.violinplot(x=\"processor\", y=\"cores_per_chip\", data=graph)\nplt.title('Range of Cores per Chip')\nplt.show()\n",
      "execution_count": null,
      "outputs": []
    },
    {
      "metadata": {
        "_uuid": "07cdd4ac40642ccd4a1904b346ee1290887b21a1"
      },
      "cell_type": "markdown",
      "source": "###  Hardware Vendor count (BAR GRAPH)"
    },
    {
      "metadata": {
        "_uuid": "277958f062460213041d5a159a1186d199b6f593",
        "scrolled": false,
        "trusted": true,
        "collapsed": true
      },
      "cell_type": "code",
      "source": "\nplt.subplots(figsize=(5,5))\npd.Series(dfb['hardware_vendor'].values).value_counts()[:].plot(kind=\"bar\")\nplt.title('bronze')\nplt.show()\n\nplt.subplots(figsize=(5,5))\npd.Series(dfs['hardware_vendor'].values).value_counts()[:].plot(kind=\"bar\")\nplt.title('silver')\nplt.show()\n\nplt.subplots(figsize=(5,5))\npd.Series(dfg['hardware_vendor'].values).value_counts()[:].plot(kind=\"bar\")\nplt.title('gold')\nplt.show()\n\nplt.subplots(figsize=(5,5))\npd.Series(dfp['hardware_vendor'].values).value_counts()[:].plot(kind=\"bar\")\nplt.title('platinum')\nplt.show()",
      "execution_count": null,
      "outputs": []
    },
    {
      "metadata": {
        "_uuid": "6003a1c4e6437cf9079052f92400b0f7bc84f321"
      },
      "cell_type": "markdown",
      "source": "### Top 5 System Count(PIE CHART)"
    },
    {
      "metadata": {
        "_uuid": "7dd68047a8510e581c79c01c4b596231cc94a708",
        "scrolled": false,
        "trusted": true,
        "collapsed": true
      },
      "cell_type": "code",
      "source": "plt.subplots(figsize=(5,5))\nlabels=(pd.Series(dfb.system.unique()).values)\nvalues=(pd.Series(dfb['system'].values).value_counts())\ntotal=sum(values)\npie=plt.pie(values, labels=labels,  autopct=lambda p: '{:.0f}'.format(p * total / 100))\n# plt.legend(pie[0], values, loc=\"upper corner\")\nplt.title('Bronze')\nplt.show()\n\nplt.subplots(figsize=(5,5))\nlabels=(pd.Series(dfs.system.unique()).values)\nvalues=(pd.Series(dfs['system'].values).value_counts())\ndf2 = values.rename_axis('system').reset_index(name='counts')\ndf2=df2[:5]\nlabels=(pd.Series(df2['system']).values)\nvalues=(pd.Series(df2['counts'].values))\ntotal = sum(values)\npie=plt.pie(values, labels=labels, autopct=lambda p: '{:.0f}'.format(p * total / 100))\n\nplt.title('Silver')\nplt.show()\n\nplt.subplots(figsize=(5,5))\nlabels=(pd.Series(dfg.system.unique()).values)\nvalues=(pd.Series(dfg['system'].values).value_counts())\ndf2 = values.rename_axis('system').reset_index(name='counts')\ndf2=df2[:5]\nlabels=(pd.Series(df2['system']).values)\nvalues=(pd.Series(df2['counts'].values))\ntotal = sum(values)\npie=plt.pie(values, labels=labels, autopct=lambda p: '{:.0f}'.format(p * total / 100))\n# plt.legend(pie[0], values, loc=\"upper corner\")\nplt.title('Gold')\nplt.show()\n\nplt.subplots(figsize=(5,5))\nlabels=(pd.Series(dfp.system.unique()).values)\nvalues=(pd.Series(dfp['system'].values).value_counts())\ndf2 = values.rename_axis('system').reset_index(name='counts')\ndf2=df2[:5]\nlabels=(pd.Series(df2['system']).values)\nvalues=(pd.Series(df2['counts'].values))\ntotal = sum(values)\npie=plt.pie(values, labels=labels, autopct=lambda p: '{:.0f}'.format(p * total / 100))\n\nplt.title('Platinum')\nplt.show()\n\n\n",
      "execution_count": null,
      "outputs": []
    },
    {
      "metadata": {
        "_uuid": "9bc28f72d06e38eb678e222a403c9a579a286728"
      },
      "cell_type": "markdown",
      "source": "### Mean SPECint_rate vs cores"
    },
    {
      "metadata": {
        "_uuid": "10421266d806d058e85ac5bcc84b8973cb1bc3f3",
        "trusted": true,
        "collapsed": true
      },
      "cell_type": "code",
      "source": "# To decrease size of graph comment the line below this.\nplt.subplots(figsize=(8,8))\ndf1=(dfb[['cores','baseline']])\ndf1=df1.groupby('cores', as_index=False).mean()\nplt.plot('cores','baseline',data=df1,label=\"Bronze\")\n\ndf1=(dfs[['cores','baseline']])\ndf1=df1.groupby('cores', as_index=False).mean()\nplt.plot('cores','baseline',data=df1,label=\"Silver\")\n\ndf1=(dfg[['cores','baseline']])\ndf1=df1.groupby('cores', as_index=False).mean()\nplt.plot('cores','baseline',data=df1,label=\"Gold\")\n\ndf1=(dfp[['cores','baseline']])\ndf1=df1.groupby('cores', as_index=False).mean()\nplt.plot('cores','baseline',data=df1,label=\"Platinum\")\n\nplt.title('Mean SPECint_rate vs cores')\nplt.legend()\nplt.xlabel('cores')\nplt.ylabel('Mean SPECint_rate')\nplt.show()\n",
      "execution_count": null,
      "outputs": []
    },
    {
      "metadata": {
        "_uuid": "fc0e251d44160f27df70e6eded283710258050f2"
      },
      "cell_type": "markdown",
      "source": "### No of cores"
    },
    {
      "metadata": {
        "_uuid": "7e8d55d3be250d37a696be419c9770085d51e174",
        "trusted": true,
        "collapsed": true
      },
      "cell_type": "code",
      "source": "plt.subplots(figsize=(5,5))\nsns.barplot(x='hardware_vendor',y='cores',data=dfb,ci=None)\nplt.title(\"Bronze\")\nplt.show()",
      "execution_count": null,
      "outputs": []
    },
    {
      "metadata": {
        "_uuid": "65a5deb9d4f1e89f9a840b3dc991da456ccf10a7",
        "trusted": true,
        "collapsed": true
      },
      "cell_type": "code",
      "source": "plt.subplots(figsize=(5,5))\nsns.barplot(x='hardware_vendor',y='cores',data=dfs,ci=None)\nplt.title(\"Silver\")\nplt.show()",
      "execution_count": null,
      "outputs": []
    },
    {
      "metadata": {
        "_uuid": "39a0a778226374c033a0dfb1601416375d66e286",
        "trusted": true,
        "collapsed": true
      },
      "cell_type": "code",
      "source": "plt.subplots(figsize=(7,5))\nsns.barplot(x='hardware_vendor',y='cores',data=dfg,ci=None)\nplt.title(\"Gold\")\nplt.show()",
      "execution_count": null,
      "outputs": []
    },
    {
      "metadata": {
        "_uuid": "f1e6be5921407afa6761ac8e0132615dffecb440",
        "trusted": true,
        "collapsed": true
      },
      "cell_type": "code",
      "source": "plt.subplots(figsize=(8,5))\nsns.barplot(x='hardware_vendor',y='cores',data=dfp,ci=None)\nplt.title(\"Platinum\")\nplt.show()",
      "execution_count": null,
      "outputs": []
    },
    {
      "metadata": {
        "_uuid": "9c7a982a28cd9ddf1acbb767769c428da7f638d5",
        "collapsed": true
      },
      "cell_type": "markdown",
      "source": "### No of chips"
    },
    {
      "metadata": {
        "_uuid": "f968d2aaa43d90680a546d8c51d1dab556cc5e8a",
        "trusted": true,
        "collapsed": true
      },
      "cell_type": "code",
      "source": "plt.subplots(figsize=(5,5))\nsns.barplot(x='hardware_vendor',y='chips',data=dfb)\nplt.title(\"Bronze\")\nplt.show()",
      "execution_count": null,
      "outputs": []
    },
    {
      "metadata": {
        "_uuid": "5c2fdf0254ce753148cbd3b8b979a8ae54d2c5e5",
        "trusted": true,
        "collapsed": true
      },
      "cell_type": "code",
      "source": "plt.subplots(figsize=(5,5))\nsns.barplot(x='hardware_vendor',y='chips',data=dfb)\nplt.title(\"Silver\")\nplt.show()",
      "execution_count": null,
      "outputs": []
    },
    {
      "metadata": {
        "_uuid": "81e949aae3a23adf88515abe3d5bcc3b5db2b1f0",
        "trusted": true,
        "collapsed": true
      },
      "cell_type": "code",
      "source": "plt.subplots(figsize=(5,5))\nsns.barplot(x='hardware_vendor',y='chips',data=dfb)\nplt.title(\"Gold\")\nplt.show()",
      "execution_count": null,
      "outputs": []
    },
    {
      "metadata": {
        "_uuid": "31313e3ac229ba56ffa6cedd0678bd0693911406",
        "trusted": true,
        "collapsed": true
      },
      "cell_type": "code",
      "source": "plt.subplots(figsize=(5,5))\nsns.barplot(x='hardware_vendor',y='chips',data=dfb)\nplt.title(\"Platinum\")\nplt.show()",
      "execution_count": null,
      "outputs": []
    },
    {
      "metadata": {
        "_uuid": "72a026ae52f4107c4983600a0479a0489341a383",
        "collapsed": true
      },
      "cell_type": "markdown",
      "source": "### No of cores per chip"
    },
    {
      "metadata": {
        "_uuid": "e9a97f93a16a2c7ad180f2fc7eefa998effaacef",
        "trusted": true,
        "collapsed": true
      },
      "cell_type": "code",
      "source": "plt.subplots(figsize=(5,5))\nsns.barplot(x='hardware_vendor',y='cores_per_chip',data=dfb,ci=None)\nplt.title(\"Bronze\")\nplt.show()",
      "execution_count": null,
      "outputs": []
    },
    {
      "metadata": {
        "_uuid": "207202eb2b082a3e62fd97b9551a08e2d373878f",
        "trusted": true,
        "collapsed": true
      },
      "cell_type": "code",
      "source": "plt.subplots(figsize=(5,5))\nsns.barplot(x='hardware_vendor',y='cores_per_chip',data=dfs,ci=None)\nplt.title(\"Silver\")\nplt.show()",
      "execution_count": null,
      "outputs": []
    },
    {
      "metadata": {
        "_uuid": "c4c98823dff652a3a0f146d648512834d5f11f2c",
        "trusted": true,
        "collapsed": true
      },
      "cell_type": "code",
      "source": "plt.subplots(figsize=(7,5))\nsns.barplot(x='hardware_vendor',y='cores_per_chip',data=dfg,ci=None)\nplt.title(\"Gold\")\nplt.show()",
      "execution_count": null,
      "outputs": []
    },
    {
      "metadata": {
        "_uuid": "6bb0f4f6cdc5361dca56788082b273b694e3a9e1",
        "trusted": true,
        "collapsed": true
      },
      "cell_type": "code",
      "source": "plt.subplots(figsize=(8,5))\nsns.barplot(x='hardware_vendor',y='cores_per_chip',data=dfp,ci=None)\nplt.title(\"Platinum\")\nplt.show()",
      "execution_count": null,
      "outputs": []
    },
    {
      "metadata": {
        "_uuid": "d145a7fb5ea08514f8cd5cb763d9cf308cd24927",
        "collapsed": true
      },
      "cell_type": "markdown",
      "source": "### Proceesor series use count"
    },
    {
      "metadata": {
        "_uuid": "2c427ed791d0a1edc9df2a81fb152ae5fb2491b6",
        "trusted": true,
        "collapsed": true
      },
      "cell_type": "code",
      "source": "plt.subplots(figsize=(100,8))\n\nsns.countplot(x='series',data=df)\nplt.title('Processor use count')\n# plt.savefig('TOTAL_series_count.PDF')\nplt.show()",
      "execution_count": null,
      "outputs": []
    }
  ],
  "metadata": {
    "kernelspec": {
      "display_name": "Python 3",
      "language": "python",
      "name": "python3"
    },
    "language_info": {
      "name": "python",
      "version": "3.6.5",
      "mimetype": "text/x-python",
      "codemirror_mode": {
        "name": "ipython",
        "version": 3
      },
      "pygments_lexer": "ipython3",
      "nbconvert_exporter": "python",
      "file_extension": ".py"
    }
  },
  "nbformat": 4,
  "nbformat_minor": 1
}